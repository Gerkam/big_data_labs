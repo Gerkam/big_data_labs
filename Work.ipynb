{
 "cells": [
  {
   "cell_type": "code",
   "execution_count": 1,
   "metadata": {
    "collapsed": true
   },
   "outputs": [],
   "source": [
    "import findspark\n",
    "findspark.init()\n"
   ]
  },
  {
   "cell_type": "code",
   "execution_count": 2,
   "metadata": {
    "collapsed": true
   },
   "outputs": [],
   "source": [
    "from pyspark import SparkContext\n",
    "from pyspark.sql import SQLContext\n",
    "import sys\n",
    "from settings import data_folder,parquet_extension\n",
    "import os\n",
    "import pyspark.sql.functions as f\n",
    "\n",
    "sc = SparkContext(\"local\", \"test\")\n",
    "sql_context = SQLContext(sc)"
   ]
  },
  {
   "cell_type": "markdown",
   "metadata": {},
   "source": [
    "# Part 1"
   ]
  },
  {
   "cell_type": "code",
   "execution_count": null,
   "metadata": {
    "collapsed": true
   },
   "outputs": [],
   "source": [
    "def read_parquet(x):\n",
    "    file = x+parquet_extension\n",
    "    path = os.path.join(data_folder,file)\n",
    "    return sql_context.read.parquet(path)"
   ]
  },
  {
   "cell_type": "markdown",
   "metadata": {},
   "source": [
    "1) count of comments, posts (all), original posts, reposts and likes made by user\n"
   ]
  },
  {
   "cell_type": "code",
   "execution_count": 6,
   "metadata": {},
   "outputs": [
    {
     "name": "stdout",
     "output_type": "stream",
     "text": [
      "Count posts (all):\n",
      "+---------+-----+\n",
      "|  from_id|count|\n",
      "+---------+-----+\n",
      "| 35891340|    2|\n",
      "|351757168|  374|\n",
      "|  1086513|    1|\n",
      "| 63009707|    3|\n",
      "|346826732|    1|\n",
      "| 31132484|    1|\n",
      "|329708654|    1|\n",
      "|263602644|    1|\n",
      "| 19298137|    1|\n",
      "| 50426099|    1|\n",
      "|190211473|    1|\n",
      "| 20903647|    2|\n",
      "| 10455365|    1|\n",
      "|321746548|    3|\n",
      "|167801567|    1|\n",
      "|179213185|    2|\n",
      "|189314728|    2|\n",
      "|  1268702|    2|\n",
      "|   477628|    1|\n",
      "|177025789|    1|\n",
      "+---------+-----+\n",
      "only showing top 20 rows\n",
      "\n",
      "Count original post:\n",
      "+-------+-----+\n",
      "|from_id|count|\n",
      "+-------+-----+\n",
      "|  71097|   41|\n",
      "| 158464|   12|\n",
      "| 248753|   85|\n",
      "| 294695|   12|\n",
      "| 340803|  225|\n",
      "| 370791|   66|\n",
      "| 374522|   44|\n",
      "| 430369|  105|\n",
      "| 470076|   63|\n",
      "| 562162|   57|\n",
      "| 931861|   59|\n",
      "| 955394|  169|\n",
      "| 982718|   86|\n",
      "|1003101|   28|\n",
      "|1042947|   70|\n",
      "|1085213|  123|\n",
      "|1463020|   73|\n",
      "|1498648|   50|\n",
      "|1673954|   54|\n",
      "|1824008|    7|\n",
      "+-------+-----+\n",
      "only showing top 20 rows\n",
      "\n",
      "Count likes:\n",
      "+---------+-----+\n",
      "|  likerId|count|\n",
      "+---------+-----+\n",
      "|186421714|    7|\n",
      "| 15216163|   21|\n",
      "|319138979|    1|\n",
      "| 93440354|    1|\n",
      "|257643029|    1|\n",
      "|183951259|    4|\n",
      "|  2571401|   18|\n",
      "| 68427633|    6|\n",
      "|304866006|    1|\n",
      "|263832768|    1|\n",
      "| 37191471|    3|\n",
      "| 24846519|    1|\n",
      "|325139746|    1|\n",
      "|298516816|   16|\n",
      "|157894228|    1|\n",
      "|135897906|    1|\n",
      "|353703978|    2|\n",
      "|167166970|    1|\n",
      "|193020735|    2|\n",
      "|116038087|    3|\n",
      "+---------+-----+\n",
      "only showing top 20 rows\n",
      "\n",
      "Count comments:\n",
      "+---------+-----+\n",
      "|  from_id|count|\n",
      "+---------+-----+\n",
      "|286226593|    7|\n",
      "|218962926|    1|\n",
      "|211764048|    1|\n",
      "|199548620|    3|\n",
      "|429074620|   18|\n",
      "|437523532|    1|\n",
      "|284045306|    1|\n",
      "|314994704|    1|\n",
      "|264069082|    2|\n",
      "|  3465262|    3|\n",
      "|316652531|    2|\n",
      "|268486195|    4|\n",
      "|391627378|    1|\n",
      "|  3437347|    1|\n",
      "|291331958|    1|\n",
      "|271390235|    1|\n",
      "|150735292|    1|\n",
      "|407005633|    4|\n",
      "|306273263|    2|\n",
      "| 76492549|    1|\n",
      "+---------+-----+\n",
      "only showing top 20 rows\n",
      "\n"
     ]
    }
   ],
   "source": [
    "file = 'userWallPosts.parquet'\n",
    "path = os.path.join(data_folder,file)\n",
    "posts = sql_context.read.parquet(path)\n",
    "all_posts_count_by_user = posts.groupBy(\"from_id\").count()\n",
    "print('Count posts (all):')\n",
    "all_posts_count_by_user.show()\n",
    "\n",
    "print('Count original post:')\n",
    "original_posts = posts.filter(f.col(\"from_id\") ==  f.col(\"owner_id\")).groupBy(\"from_id\").count()\n",
    "original_posts.show()\n",
    "\n",
    "print('Count likes:')\n",
    "file = 'userWallLikes.parquet'\n",
    "path = os.path.join(data_folder,file)\n",
    "likes = sql_context.read.parquet(path)\n",
    "like_group = likes.groupBy(\"likerId\").count()\n",
    "like_group.show()\n",
    "\n",
    "print('Count comments:')\n",
    "file = 'userWallComments.parquet'\n",
    "path = os.path.join(data_folder,file)\n",
    "comments = sql_context.read.parquet(path)\n",
    "comment_group = comments.groupBy(\"from_id\").count()\n",
    "comment_group.show()\n"
   ]
  },
  {
   "cell_type": "markdown",
   "metadata": {},
   "source": [
    "2) count of friends, groups, followers"
   ]
  },
  {
   "cell_type": "code",
   "execution_count": 11,
   "metadata": {},
   "outputs": [
    {
     "name": "stdout",
     "output_type": "stream",
     "text": [
      "Count of groupsProfiles 2082472\n",
      "Count of friends 100439465\n",
      "Count of followers 92567996\n"
     ]
    }
   ],
   "source": [
    "parts = ['groupsProfiles','friends','followers']\n",
    "paths = list(map(lambda x:os.path.join(data_folder, x + parquet_extension), parts))\n",
    "\n",
    "def get_part(path):\n",
    "    parquet = sql_context.read.parquet(path)\n",
    "    if path.find(parts[0]) !=-1:\n",
    "        return parquet.select('id').count()\n",
    "    else:\n",
    "        return parquet.select('profile').count()\n",
    "\n",
    "\n",
    "parts_count = list(map(lambda x:get_part(x),paths))\n",
    "for i,p in enumerate(parts_count):\n",
    "    print('Count of '+parts[i]+' '+str(p))"
   ]
  },
  {
   "cell_type": "markdown",
   "metadata": {},
   "source": [
    "3) count of videos, audios, photos, gifts"
   ]
  },
  {
   "cell_type": "code",
   "execution_count": 15,
   "metadata": {},
   "outputs": [
    {
     "name": "stdout",
     "output_type": "stream",
     "text": [
      "Count of videos 56\n",
      "Count of audios 56\n",
      "Count of photos 56\n",
      "Count of gifts 33\n"
     ]
    }
   ],
   "source": [
    "from pyspark.sql.functions import col\n",
    "\n",
    "ile = 'friendsProfiles.parquet'\n",
    "path = os.path.join(data_folder,file)\n",
    "parquet = sql_context.read.parquet(path)\n",
    "\n",
    "def select(x):\n",
    "    return parquet.where(col('counters.'+x).isNotNull()).count()\n",
    "\n",
    "\n",
    "names = 'videos audios photos gifts'\n",
    "names = names.split()\n",
    "\n",
    "\n",
    "result = list(map(select,names))\n",
    "for i,p in enumerate(result):\n",
    "    print('Count of '+names[i]+' '+str(p))"
   ]
  },
  {
   "cell_type": "markdown",
   "metadata": {},
   "source": [
    "4) count of \"incoming\" (made by other users) comments, max and mean \"incoming\" comments per post"
   ]
  },
  {
   "cell_type": "code",
   "execution_count": 26,
   "metadata": {},
   "outputs": [
    {
     "name": "stdout",
     "output_type": "stream",
     "text": [
      "count all\n",
      "+--------------+\n",
      "|sum(count(id))|\n",
      "+--------------+\n",
      "|        206158|\n",
      "+--------------+\n",
      "\n",
      "mean\n",
      "+-----------------+\n",
      "|   avg(count(id))|\n",
      "+-----------------+\n",
      "|5.797143017828018|\n",
      "+-----------------+\n",
      "\n",
      "min\n",
      "+--------------+\n",
      "|min(count(id))|\n",
      "+--------------+\n",
      "|             1|\n",
      "+--------------+\n",
      "\n",
      "max\n",
      "+--------------+\n",
      "|max(count(id))|\n",
      "+--------------+\n",
      "|          1658|\n",
      "+--------------+\n",
      "\n"
     ]
    }
   ],
   "source": [
    "from pyspark.sql import functions as F\n",
    "\n",
    "info = 'userWallComments'\n",
    "parquet = sql_context.read.parquet(os.path.join(data_folder,info+parquet_extension))\n",
    "parquet = parquet.where(col('from_id')!=col('post_owner_id'))\n",
    "\n",
    "comment_group = parquet.groupby('post_id').agg(F.count('id'))\n",
    "print('count all')\n",
    "comment_group.agg(F.sum('count(id)')).show()\n",
    "print('mean')\n",
    "comment_group.agg(F.mean('count(id)')).show()\n",
    "print('min')\n",
    "comment_group.agg(F.min('count(id)')).show()\n",
    "print('max')\n",
    "comment_group.agg(F.max('count(id)')).show()\n"
   ]
  },
  {
   "cell_type": "markdown",
   "metadata": {
    "collapsed": true
   },
   "source": [
    "5) count of \"incoming\" likes, max and mean \"incoming\" likes per post"
   ]
  },
  {
   "cell_type": "code",
   "execution_count": 27,
   "metadata": {},
   "outputs": [
    {
     "name": "stdout",
     "output_type": "stream",
     "text": [
      "count all\n",
      "+--------------------+\n",
      "|sum(count(itemType))|\n",
      "+--------------------+\n",
      "|             6466783|\n",
      "+--------------------+\n",
      "\n",
      "mean\n",
      "+--------------------+\n",
      "|avg(count(itemType))|\n",
      "+--------------------+\n",
      "|   52.76120815553942|\n",
      "+--------------------+\n",
      "\n",
      "min\n",
      "+--------------------+\n",
      "|min(count(itemType))|\n",
      "+--------------------+\n",
      "|                   1|\n",
      "+--------------------+\n",
      "\n",
      "max\n",
      "+--------------------+\n",
      "|max(count(itemType))|\n",
      "+--------------------+\n",
      "|               35649|\n",
      "+--------------------+\n",
      "\n"
     ]
    }
   ],
   "source": [
    "file = 'userWallLikes.parquet'\n",
    "path = os.path.join(data_folder,file)\n",
    "parquet = sql_context.read.parquet(path)\n",
    "\n",
    "data = parquet.filter(parquet.likerId != parquet.ownerId)\n",
    "data_group = data.groupby('itemId').agg(F.count('itemType'))\n",
    "\n",
    "print('count all')\n",
    "data_group.agg(F.sum('count(itemType)')).show()\n",
    "print('mean')\n",
    "data_group.agg(F.mean('count(itemType)')).show()\n",
    "print('min')\n",
    "data_group.agg(F.min('count(itemType)')).show()\n",
    "print('max')\n",
    "data_group.agg(F.max('count(itemType)')).show()\n"
   ]
  },
  {
   "cell_type": "markdown",
   "metadata": {},
   "source": [
    "6) count of geo tagged posts"
   ]
  },
  {
   "cell_type": "code",
   "execution_count": 29,
   "metadata": {},
   "outputs": [
    {
     "data": {
      "text/plain": [
       "14603"
      ]
     },
     "execution_count": 29,
     "metadata": {},
     "output_type": "execute_result"
    }
   ],
   "source": [
    "file = 'userWallPosts.parquet'\n",
    "path = os.path.join(data_folder,file)\n",
    "parquet = sql_context.read.parquet(path)\n",
    "\n",
    "parquet.filter(parquet.geo.isNotNull()).count()"
   ]
  },
  {
   "cell_type": "markdown",
   "metadata": {},
   "source": [
    "7) count of open / closed (e.g. private) groups a user participates in"
   ]
  },
  {
   "cell_type": "code",
   "execution_count": 33,
   "metadata": {},
   "outputs": [
    {
     "name": "stdout",
     "output_type": "stream",
     "text": [
      "Count groups per user where is_closed = 1\n",
      "+---------+------------------+\n",
      "| user_df2|sum(is_closed_df1)|\n",
      "+---------+------------------+\n",
      "|231446297|                 0|\n",
      "|324793578|               315|\n",
      "| 31599746|                 0|\n",
      "|283155188|                 0|\n",
      "| 61368718|                 1|\n",
      "| 70063923|                36|\n",
      "|278576875|                 0|\n",
      "|  3937539|                 0|\n",
      "| 46798936|                 0|\n",
      "|281287603|                 0|\n",
      "|  7117016|                 0|\n",
      "| 34540597|                 0|\n",
      "| 87449362|                 0|\n",
      "|141719570|                 0|\n",
      "|142459547|                16|\n",
      "|192959832|                 0|\n",
      "| 49368505|                 0|\n",
      "| 32932278|                 0|\n",
      "| 22790730|                 0|\n",
      "|176822243|                 0|\n",
      "+---------+------------------+\n",
      "only showing top 20 rows\n",
      "\n",
      "Count groups per user where is_closed = 0\n",
      "+---------+-------------------------------------------+\n",
      "| user_df2|(count(is_closed_df1) - sum(is_closed_df1))|\n",
      "+---------+-------------------------------------------+\n",
      "|231446297|                                      28164|\n",
      "|324793578|                                      35444|\n",
      "| 31599746|                                       4185|\n",
      "|283155188|                                        121|\n",
      "| 61368718|                                       3001|\n",
      "| 70063923|                                       6119|\n",
      "|278576875|                                       5383|\n",
      "|  3937539|                                        322|\n",
      "| 46798936|                                       2827|\n",
      "|281287603|                                       5042|\n",
      "|  7117016|                                       5341|\n",
      "| 34540597|                                       7264|\n",
      "| 87449362|                                       2604|\n",
      "|141719570|                                      10726|\n",
      "|142459547|                                      10917|\n",
      "|192959832|                                      22205|\n",
      "| 49368505|                                      13436|\n",
      "| 32932278|                                      15196|\n",
      "| 22790730|                                        914|\n",
      "|176822243|                                      14246|\n",
      "+---------+-------------------------------------------+\n",
      "only showing top 20 rows\n",
      "\n"
     ]
    }
   ],
   "source": [
    "file = 'groupsProfiles.parquet'\n",
    "path = os.path.join(data_folder,file)\n",
    "groupsProfiles = sql_context.read.parquet(path)\n",
    "\n",
    "file = 'userGroupsSubs.parquet'\n",
    "path = os.path.join(data_folder,file)\n",
    "userGroupsSubs = sql_context.read.parquet(path)\n",
    "\n",
    "groupsProfiles = groupsProfiles.select('key','is_closed')\n",
    "\n",
    "df1_r = groupsProfiles.select(*(col(x).alias(x + '_df1') for x in groupsProfiles.columns))\n",
    "df2_r = userGroupsSubs.select(*(col(x).alias(x + '_df2') for x in userGroupsSubs.columns))\n",
    "\n",
    "temp = df2_r.join(df1_r, col('group_df2') == col('key_df1'))  #q\n",
    "print('Count groups per user where is_closed = 1')\n",
    "temp.groupby('user_df2').agg(F.sum('is_closed_df1')).show()\n",
    "print('Count groups per user where is_closed = 0')\n",
    "temp.groupby('user_df2').agg(F.count('is_closed_df1')-F.sum('is_closed_df1')).show()"
   ]
  },
  {
   "cell_type": "markdown",
   "metadata": {},
   "source": [
    "# Part 2"
   ]
  },
  {
   "cell_type": "markdown",
   "metadata": {},
   "source": [
    "1) count of reposts from subscribed and not-subscribed groups\n"
   ]
  },
  {
   "cell_type": "code",
   "execution_count": 20,
   "metadata": {},
   "outputs": [
    {
     "name": "stdout",
     "output_type": "stream",
     "text": [
      "count of reposts from not-subscribed groups\n",
      "87\n",
      "count of reposts from subscribed groups\n",
      "100115\n"
     ]
    }
   ],
   "source": [
    "from pyspark.sql.functions import countDistinct\n",
    "\n",
    "userGroupsSubs = read_parquet('userGroupsSubs')\n",
    "userGroupsSubs = userGroupsSubs.withColumn(\"group_int\", userGroupsSubs[\"group\"].cast(\"int\"))\n",
    "\n",
    "userWallPosts = read_parquet('userWallPosts')\n",
    "userWallPosts = userWallPosts.filter(userWallPosts.is_reposted).filter(userWallPosts.repost_info.orig_owner_id<0)\n",
    "userWallPosts = userWallPosts.select('repost_info.orig_owner_id','repost_info.orig_from_id','is_reposted','id')\n",
    "\n",
    "\n",
    "answer = userWallPosts.join(userGroupsSubs,col('orig_owner_id')==col('group_int'),how='leftouter')\n",
    "answer_sub = answer.filter(answer.orig_from_id==answer.user)\n",
    "# answer_sub.show()\n",
    "print('count of reposts from not-subscribed groups')\n",
    "answer_sub = answer_sub.select('id').distinct().count()\n",
    "print(answer_sub)\n",
    "print('count of reposts from subscribed groups')\n",
    "print(answer.select('id').distinct().count()-answer_sub)\n"
   ]
  },
  {
   "cell_type": "markdown",
   "metadata": {},
   "source": [
    "2) count of deleted users in friends and followers"
   ]
  },
  {
   "cell_type": "code",
   "execution_count": 37,
   "metadata": {},
   "outputs": [
    {
     "name": "stdout",
     "output_type": "stream",
     "text": [
      "count of deleted users in friends and followers\n"
     ]
    },
    {
     "data": {
      "text/plain": [
       "1261990"
      ]
     },
     "execution_count": 37,
     "metadata": {},
     "output_type": "execute_result"
    }
   ],
   "source": [
    "friends_profiles = read_parquet('friendsProfiles')\n",
    "friends = read_parquet('friends')\n",
    "\n",
    "deleted_friends = friends_profiles.filter(friends_profiles.deactivated == 'deleted').select('id')\n",
    "answer = friends.join(deleted_friends, col('follower') == col('id'))\n",
    "print('count of deleted users in friends and followers')\n",
    "answer.count()"
   ]
  },
  {
   "cell_type": "markdown",
   "metadata": {},
   "source": [
    "3) aggregate (e.g. count, max, mean) characteristics for comments and likes (separtely) made by (a) friends and (b) followers per post"
   ]
  },
  {
   "cell_type": "code",
   "execution_count": 4,
   "metadata": {
    "collapsed": true
   },
   "outputs": [],
   "source": [
    "import pyspark.sql.functions as F\n",
    "from pyspark.sql.functions import col\n"
   ]
  },
  {
   "cell_type": "code",
   "execution_count": 16,
   "metadata": {},
   "outputs": [
    {
     "name": "stdout",
     "output_type": "stream",
     "text": [
      "max comments made by friends\n",
      "Row(max(result)=15)\n",
      "min comments made by friends\n",
      "Row(min(result)=1)\n",
      "max comments made by followers\n",
      "Row(max(result)=5176)\n",
      "min comments made by followers\n",
      "Row(min(result)=1)\n"
     ]
    }
   ],
   "source": [
    "user_wall_comments = read_parquet('userWallComments')\n",
    "friends = read_parquet('friends')\n",
    "\n",
    "changed_user_wall_comments = user_wall_comments.withColumn(\"post_owner_id_int\", user_wall_comments[\"post_owner_id\"].cast(\"int\"))\n",
    "changed_user_wall_comments = changed_user_wall_comments.withColumn(\"from_id_int\", changed_user_wall_comments[\"from_id\"].cast(\"int\"))\n",
    "changed_friends = friends.withColumn(\"profile_int\", friends[\"profile\"].cast(\"int\"))\n",
    "changed_friends = changed_friends.withColumn(\"follower_int\", changed_friends[\"follower\"].cast(\"int\"))\n",
    "changed_friends = changed_friends.select('profile_int','follower_int')\n",
    "temp = changed_user_wall_comments.select('post_owner_id_int','from_id_int','post_id')\n",
    "answer = temp.join(changed_friends, col('post_owner_id_int') == col('profile_int'),how='leftouter')\n",
    "\n",
    "# Only friends and followers\n",
    "answer = answer.filter(answer.from_id_int==answer.follower_int)\n",
    "\n",
    "changed_friends = changed_friends.withColumn('new_profile',changed_friends['profile_int'])\n",
    "changed_friends = changed_friends.withColumn('new_follower',changed_friends['follower_int'])\n",
    "changed_friends = changed_friends.select('new_profile','new_follower')\n",
    "final_answer = answer.join(changed_friends, col('from_id_int') == col('new_profile'),how='leftouter')\n",
    "# friends answer\n",
    "friends_final_answer_comments = final_answer.filter(final_answer.new_follower == final_answer.post_owner_id_int)\n",
    "# followers answer\n",
    "follower_final_answer_comments = final_answer.filter(final_answer.new_follower != final_answer.post_owner_id_int)\n",
    "\n",
    "\n",
    "#Aggregate\n",
    "friends_final_answer_group = friends_final_answer_comments.groupby('post_id')\n",
    "friend_post = friends_final_answer_group.agg(F.count('post_owner_id_int'))\n",
    "friend_post = friend_post.withColumn('result',friend_post['count(post_owner_id_int)'])\n",
    "\n",
    "follower_final_answer_group = follower_final_answer_comments.groupby('post_id')\n",
    "follower_post = follower_final_answer_group.agg(F.count('post_owner_id_int'))\n",
    "follower_post = follower_post.withColumn('result',follower_post['count(post_owner_id_int)'])\n",
    "\n",
    "\n",
    "print('max comments made by friends')\n",
    "row1 = friend_post.agg({\"result\": \"max\"}).collect()[0]\n",
    "print(row1)\n",
    "print('min comments made by friends')\n",
    "row1 = friend_post.agg({\"result\": \"min\"}).collect()[0]\n",
    "print(row1)\n",
    "\n",
    "print('max comments made by followers')\n",
    "row1 = follower_post.agg({\"result\": \"max\"}).collect()[0]\n",
    "print(row1)\n",
    "print('min comments made by followers')\n",
    "row1 = follower_post.agg({\"result\": \"min\"}).collect()[0]\n",
    "print(row1)\n"
   ]
  },
  {
   "cell_type": "markdown",
   "metadata": {},
   "source": [
    "The same for likes"
   ]
  },
  {
   "cell_type": "code",
   "execution_count": 17,
   "metadata": {},
   "outputs": [
    {
     "name": "stdout",
     "output_type": "stream",
     "text": [
      "max likes made by friends\n",
      "Row(max(result)=33)\n",
      "min likes made by friends\n",
      "Row(min(result)=1)\n",
      "max likes made by followers\n",
      "Row(max(result)=14519)\n",
      "min likes made by followers\n",
      "Row(min(result)=1)\n"
     ]
    }
   ],
   "source": [
    "userWallLikes = read_parquet('userWallLikes')\n",
    "friends = read_parquet('friends')\n",
    "\n",
    "# changed_user_wall_likes = userWallLikes.withColumn(\"post_owner_id_int\", userWallLikes[\"post_owner_id\"].cast(\"int\"))\n",
    "# changed_user_wall_likes = changed_user_wall_likes.withColumn(\"from_id_int\", changed_user_wall_comments[\"from_id\"].cast(\"int\"))\n",
    "changed_friends = friends.withColumn(\"profile_int\", friends[\"profile\"].cast(\"int\"))\n",
    "changed_friends = changed_friends.withColumn(\"follower_int\", changed_friends[\"follower\"].cast(\"int\"))\n",
    "changed_friends = changed_friends.select('profile_int','follower_int')\n",
    "temp = userWallLikes.select('likerId','ownerId','itemId')\n",
    "answer = temp.join(changed_friends, col('ownerId') == col('profile_int'),how='leftouter')\n",
    "\n",
    "# Only friends and followers\n",
    "answer = answer.filter(answer.likerId==answer.follower_int)\n",
    "\n",
    "changed_friends = changed_friends.withColumn('new_profile',changed_friends['profile_int'])\n",
    "changed_friends = changed_friends.withColumn('new_follower',changed_friends['follower_int'])\n",
    "changed_friends = changed_friends.select('new_profile','new_follower')\n",
    "final_answer = answer.join(changed_friends, col('likerId') == col('new_profile'),how='leftouter')\n",
    "# friends answer\n",
    "friends_final_answer_likes = final_answer.filter(final_answer.new_follower == final_answer.ownerId)\n",
    "# followers answer\n",
    "follower_final_answer_likes = final_answer.filter(final_answer.new_follower != final_answer.ownerId)\n",
    "\n",
    "\n",
    "#Aggregate\n",
    "friends_final_answer_group = friends_final_answer_likes.groupby('itemId')\n",
    "friend_post = friends_final_answer_group.agg(F.count('ownerId'))\n",
    "friend_post = friend_post.withColumn('result',friend_post['count(ownerId)'])\n",
    "\n",
    "follower_final_answer_group = follower_final_answer_likes.groupby('itemId')\n",
    "follower_post = follower_final_answer_group.agg(F.count('ownerId'))\n",
    "follower_post = follower_post.withColumn('result',follower_post['count(ownerId)'])\n",
    "\n",
    "\n",
    "print('max likes made by friends')\n",
    "row1 = friend_post.agg({\"result\": \"max\"}).collect()[0]\n",
    "print(row1)\n",
    "print('min likes made by friends')\n",
    "row1 = friend_post.agg({\"result\": \"min\"}).collect()[0]\n",
    "print(row1)\n",
    "\n",
    "print('max likes made by followers')\n",
    "row1 = follower_post.agg({\"result\": \"max\"}).collect()[0]\n",
    "print(row1)\n",
    "print('min likes made by followers')\n",
    "row1 = follower_post.agg({\"result\": \"min\"}).collect()[0]\n",
    "print(row1)\n"
   ]
  },
  {
   "cell_type": "markdown",
   "metadata": {},
   "source": [
    "4) aggregate (e.g. count, max, mean) characteristics for comments and likes (separtely) made by (a) friends and (b) followers per user\n"
   ]
  },
  {
   "cell_type": "code",
   "execution_count": 18,
   "metadata": {},
   "outputs": [
    {
     "name": "stdout",
     "output_type": "stream",
     "text": [
      "max likes made by friends per user\n",
      "Row(max(count(itemId))=4327)\n",
      "min likes made by friends per user\n",
      "Row(min(count(itemId))=1)\n",
      "max likes made by followers per user\n",
      "Row(max(count(itemId))=769510)\n",
      "min likes made by followers per user\n",
      "Row(min(count(itemId))=1)\n"
     ]
    }
   ],
   "source": [
    "# Используя прошлый пункт \n",
    "#likes\n",
    "friends_final_answer_group_user = friends_final_answer_likes.groupby('ownerId')\n",
    "count = friends_final_answer_group_user.agg(F.count('itemId'))\n",
    "\n",
    "print('max likes made by friends per user')\n",
    "row1 = count.agg({\"count(itemId)\": \"max\"}).collect()[0]\n",
    "print(row1)\n",
    "print('min likes made by friends per user')\n",
    "row1 = count.agg({\"count(itemId)\": \"min\"}).collect()[0]\n",
    "print(row1)\n",
    "\n",
    "followers_final_answer_group_user = follower_final_answer_likes.groupby('ownerId')\n",
    "count = followers_final_answer_group_user.agg(F.count('itemId'))\n",
    "\n",
    "print('max likes made by followers per user')\n",
    "row1 = count.agg({\"count(itemId)\": \"max\"}).collect()[0]\n",
    "print(row1)\n",
    "print('min likes made by followers per user')\n",
    "row1 = count.agg({\"count(itemId)\": \"min\"}).collect()[0]\n",
    "print(row1)\n"
   ]
  },
  {
   "cell_type": "code",
   "execution_count": 19,
   "metadata": {},
   "outputs": [
    {
     "name": "stdout",
     "output_type": "stream",
     "text": [
      "max comments made by friends per post\n",
      "Row(max(count(post_id))=330)\n",
      "min comments made by friends per post\n",
      "Row(min(count(post_id))=1)\n",
      "max comments made by followers per post\n",
      "Row(max(count(post_id))=91350)\n",
      "min comments made by followers per post\n",
      "Row(min(count(post_id))=1)\n"
     ]
    }
   ],
   "source": [
    "#comments\n",
    "friends_final_answer_group_user = friends_final_answer_comments.groupby('post_owner_id_int')\n",
    "count = friends_final_answer_group_user.agg(F.count('post_id'))\n",
    "\n",
    "print('max comments made by friends per post')\n",
    "row1 = count.agg({\"count(post_id)\": \"max\"}).collect()[0]\n",
    "print(row1)\n",
    "print('min comments made by friends per post')\n",
    "row1 = count.agg({\"count(post_id)\": \"min\"}).collect()[0]\n",
    "print(row1)\n",
    "\n",
    "followers_final_answer_group_user = follower_final_answer_comments.groupby('post_owner_id_int')\n",
    "count = followers_final_answer_group_user.agg(F.count('post_id'))\n",
    "\n",
    "print('max comments made by followers per post')\n",
    "row1 = count.agg({\"count(post_id)\": \"max\"}).collect()[0]\n",
    "print(row1)\n",
    "print('min comments made by followers per post')\n",
    "row1 = count.agg({\"count(post_id)\": \"min\"}).collect()[0]\n",
    "print(row1)\n"
   ]
  },
  {
   "cell_type": "code",
   "execution_count": null,
   "metadata": {
    "collapsed": true
   },
   "outputs": [],
   "source": [
    "# emoji"
   ]
  },
  {
   "cell_type": "markdown",
   "metadata": {
    "collapsed": true
   },
   "source": [
    "5) find emoji (separately, count of: all, negative, positive, others) in (a) user's posts (b) user's comments  \n"
   ]
  },
  {
   "cell_type": "code",
   "execution_count": 90,
   "metadata": {
    "collapsed": true
   },
   "outputs": [],
   "source": [
    "from ast import literal_eval\n",
    "\n",
    "with open('emoji.txt') as f:\n",
    "    text = f.read()\n",
    "    emoji = literal_eval(tew)\n",
    "\n",
    "pos_em = filter(lambda x: x['polarity'] >0 ,emoji)\n",
    "pos_em = list(map(lambda x:x['emoji'],pos_em))\n",
    "neu_em = filter(lambda x: x['polarity'] ==0 ,emoji)\n",
    "neu_em = list(map(lambda x:x['emoji'],neu_em))\n",
    "neg_em = filter(lambda x: x['polarity'] <0 ,emoji)\n",
    "neg_em = list(map(lambda x:x['emoji'],neg_em))\n",
    "\n",
    "\n"
   ]
  },
  {
   "cell_type": "code",
   "execution_count": 91,
   "metadata": {
    "collapsed": true
   },
   "outputs": [],
   "source": [
    "from pyspark.sql.functions import udf\n",
    "\n",
    "@udf('int')\n",
    "def count_neg(text):\n",
    "    count = 0\n",
    "    for char in text:\n",
    "        if char in neg_em:\n",
    "            count +=1\n",
    "    return count\n",
    "\n",
    "@udf('int')\n",
    "def count_pos(text):\n",
    "    count = 0\n",
    "    for char in text:\n",
    "        if char in pos_em:\n",
    "            count +=1\n",
    "    return count\n",
    "\n",
    "@udf('int')\n",
    "def count_neu(text):\n",
    "    count = 0\n",
    "    for char in text:\n",
    "        if char in neu_em:\n",
    "            count +=1\n",
    "    return count\n",
    "\n"
   ]
  },
  {
   "cell_type": "code",
   "execution_count": 92,
   "metadata": {},
   "outputs": [
    {
     "name": "stdout",
     "output_type": "stream",
     "text": [
      "Count negative emojis in posts\n",
      "10422\n",
      "Count positive emojis in posts\n",
      "116817\n",
      "Count neutral emojis in posts\n",
      "1628\n"
     ]
    }
   ],
   "source": [
    "userWallPosts = read_parquet('userWallPosts')\n",
    "userWallPosts = userWallPosts.withColumn('neg_count', count_neg(userWallPosts.text))\n",
    "userWallPosts = userWallPosts.withColumn('neu_count', count_neu(userWallPosts.text))\n",
    "userWallPosts = userWallPosts.withColumn('pos_count', count_pos(userWallPosts.text))\n",
    "\n",
    "print('Count negative emojis in posts')\n",
    "print(userWallPosts.select('neg_count').groupBy().sum().collect()[0][0])\n",
    "print('Count positive emojis in posts')\n",
    "print(userWallPosts.select('pos_count').groupBy().sum().collect()[0][0])\n",
    "print('Count neutral emojis in posts')\n",
    "print(userWallPosts.select('neu_count').groupBy().sum().collect()[0][0])"
   ]
  },
  {
   "cell_type": "code",
   "execution_count": 94,
   "metadata": {},
   "outputs": [
    {
     "name": "stdout",
     "output_type": "stream",
     "text": [
      "Count negative emojis in comments\n",
      "10329\n",
      "Count positive emojis in comments\n",
      "74293\n",
      "Count neutral emojis in comments\n",
      "1344\n"
     ]
    }
   ],
   "source": [
    "user_wall_comments = read_parquet('userWallComments')\n",
    "user_wall_comments = user_wall_comments.withColumn('neg_count', count_neg(user_wall_comments.text))\n",
    "user_wall_comments = user_wall_comments.withColumn('neu_count', count_neu(user_wall_comments.text))\n",
    "user_wall_comments = user_wall_comments.withColumn('pos_count', count_pos(user_wall_comments.text))\n",
    "\n",
    "print('Count negative emojis in comments')\n",
    "print(user_wall_comments.select('neg_count').groupBy().sum().collect()[0][0])\n",
    "print('Count positive emojis in comments')\n",
    "print(user_wall_comments.select('pos_count').groupBy().sum().collect()[0][0])\n",
    "print('Count neutral emojis in comments')\n",
    "print(user_wall_comments.select('neu_count').groupBy().sum().collect()[0][0])"
   ]
  },
  {
   "cell_type": "code",
   "execution_count": null,
   "metadata": {
    "collapsed": true
   },
   "outputs": [],
   "source": []
  }
 ],
 "metadata": {
  "kernelspec": {
   "display_name": "Python 3",
   "language": "python",
   "name": "python3"
  },
  "language_info": {
   "codemirror_mode": {
    "name": "ipython",
    "version": 3
   },
   "file_extension": ".py",
   "mimetype": "text/x-python",
   "name": "python",
   "nbconvert_exporter": "python",
   "pygments_lexer": "ipython3",
   "version": "3.5.2"
  }
 },
 "nbformat": 4,
 "nbformat_minor": 2
}
